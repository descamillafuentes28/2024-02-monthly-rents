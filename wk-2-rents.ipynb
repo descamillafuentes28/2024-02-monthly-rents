{
 "cells": [
  {
   "cell_type": "code",
   "execution_count": 1,
   "id": "bbc6c8fd",
   "metadata": {},
   "outputs": [
    {
     "data": {
      "text/plain": [
       "71200.77777777778"
      ]
     },
     "execution_count": 1,
     "metadata": {},
     "output_type": "execute_result"
    }
   ],
   "source": [
    "700 / 900 + 1_200 + 700 * 100"
   ]
  },
  {
   "cell_type": "code",
   "execution_count": 2,
   "id": "b7bf6c34",
   "metadata": {},
   "outputs": [
    {
     "data": {
      "text/plain": [
       "25.0"
      ]
     },
     "execution_count": 2,
     "metadata": {},
     "output_type": "execute_result"
    }
   ],
   "source": [
    "700 / (900 + 1_200 + 700) * 100"
   ]
  },
  {
   "cell_type": "code",
   "execution_count": 4,
   "id": "6eb2429e",
   "metadata": {},
   "outputs": [],
   "source": [
    "alfred_monthly_23 = 900\n",
    "fatima_monthly_23 = 1_200\n",
    "trina_monthly_23 = 700"
   ]
  },
  {
   "cell_type": "code",
   "execution_count": 6,
   "id": "c5b96b68",
   "metadata": {},
   "outputs": [],
   "source": [
    "alfred_m, fatima_m, trina_m = 900, 1_200, 700"
   ]
  },
  {
   "cell_type": "code",
   "execution_count": 12,
   "id": "8c805688",
   "metadata": {},
   "outputs": [
    {
     "data": {
      "text/plain": [
       "900"
      ]
     },
     "execution_count": 12,
     "metadata": {},
     "output_type": "execute_result"
    }
   ],
   "source": [
    "alfred_m\n",
    "# fatima_monthly_23\n",
    "# trina_m"
   ]
  },
  {
   "cell_type": "code",
   "execution_count": 16,
   "id": "93881768",
   "metadata": {},
   "outputs": [
    {
     "data": {
      "text/plain": [
       "25.0"
      ]
     },
     "execution_count": 16,
     "metadata": {},
     "output_type": "execute_result"
    }
   ],
   "source": [
    "trina_monthly_23 / (alfred_monthly_23 + fatima_monthly_23 + trina_monthly_23) * 100"
   ]
  },
  {
   "cell_type": "code",
   "execution_count": 18,
   "id": "8c070376",
   "metadata": {},
   "outputs": [
    {
     "data": {
      "text/plain": [
       "25.0"
      ]
     },
     "execution_count": 18,
     "metadata": {},
     "output_type": "execute_result"
    }
   ],
   "source": [
    "trina_share_23 = trina_monthly_23 / (alfred_monthly_23 + fatima_monthly_23 + trina_monthly_23) * 100\n",
    "trina_share_23"
   ]
  },
  {
   "cell_type": "code",
   "execution_count": 19,
   "id": "b6ed3ec2",
   "metadata": {},
   "outputs": [
    {
     "data": {
      "text/plain": [
       "25.0"
      ]
     },
     "execution_count": 19,
     "metadata": {},
     "output_type": "execute_result"
    }
   ],
   "source": [
    "##easier to read\n",
    "trina_share_23 = \\\n",
    "trina_monthly_23 / (alfred_monthly_23 + \\\n",
    "                    fatima_monthly_23 + \\\n",
    "                    trina_monthly_23) * 100\n",
    "trina_share_23"
   ]
  },
  {
   "cell_type": "code",
   "execution_count": 21,
   "id": "4ea1dd29",
   "metadata": {},
   "outputs": [
    {
     "data": {
      "text/plain": [
       "(25.0, 900, 1200)"
      ]
     },
     "execution_count": 21,
     "metadata": {},
     "output_type": "execute_result"
    }
   ],
   "source": [
    "## call it\n",
    "trina_share_23, alfred_monthly_23, fatima_monthly_23"
   ]
  },
  {
   "cell_type": "code",
   "execution_count": null,
   "id": "7834d2cd",
   "metadata": {},
   "outputs": [],
   "source": []
  }
 ],
 "metadata": {
  "kernelspec": {
   "display_name": "Python 3 (ipykernel)",
   "language": "python",
   "name": "python3"
  },
  "language_info": {
   "codemirror_mode": {
    "name": "ipython",
    "version": 3
   },
   "file_extension": ".py",
   "mimetype": "text/x-python",
   "name": "python",
   "nbconvert_exporter": "python",
   "pygments_lexer": "ipython3",
   "version": "3.11.5"
  }
 },
 "nbformat": 4,
 "nbformat_minor": 5
}
